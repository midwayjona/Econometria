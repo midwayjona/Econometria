{
 "cells": [
  {
   "cell_type": "code",
   "execution_count": null,
   "id": "e5aea074-7b5a-4304-b8ef-2d9a7a212f79",
   "metadata": {},
   "outputs": [],
   "source": [
    "holas"
   ]
  }
 ],
 "metadata": {
  "kernelspec": {
   "display_name": "Python 3 (ipykernel)",
   "language": "python",
   "name": "python3"
  },
  "language_info": {
   "codemirror_mode": {
    "name": "ipython",
    "version": 3
   },
   "file_extension": ".py",
   "mimetype": "text/x-python",
   "name": "python",
   "nbconvert_exporter": "python",
   "pygments_lexer": "ipython3",
   "version": "3.12.7"
  }
 },
 "nbformat": 4,
 "nbformat_minor": 5
}
