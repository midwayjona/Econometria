{
 "cells": [
  {
   "cell_type": "markdown",
   "id": "6d03f034-a8ec-4338-8269-7ca080bad77b",
   "metadata": {},
   "source": [
    "### 1. Cargamos Librerias\n",
    "\n",
    "Cargamos librerias para analisis de datos con python."
   ]
  },
  {
   "cell_type": "code",
   "execution_count": 4,
   "id": "6ecb35ce-00bc-40e6-8829-4d39ceacca5e",
   "metadata": {},
   "outputs": [],
   "source": [
    "import numpy as np\n",
    "import pandas as pd\n",
    "import matplotlib.pyplot as plt"
   ]
  },
  {
   "cell_type": "markdown",
   "id": "0a54b6d7-8416-40ad-9b11-49ca74e33300",
   "metadata": {},
   "source": [
    "#### Markdown"
   ]
  },
  {
   "cell_type": "markdown",
   "id": "256f82cb-b21e-4327-840c-36e34139a8fa",
   "metadata": {},
   "source": [
    "```Python\n",
    "str = \"This is block level code\"\n",
    "print(str)\n",
    "```"
   ]
  },
  {
   "cell_type": "markdown",
   "id": "a72306c2-2171-4b39-b05b-c8ccf9a7edcc",
   "metadata": {},
   "source": [
    "\\$\\sqrt{k}$"
   ]
  },
  {
   "cell_type": "markdown",
   "id": "12a9222d-c539-4a30-af1a-7038523949ea",
   "metadata": {},
   "source": [
    "---"
   ]
  },
  {
   "cell_type": "markdown",
   "id": "ec728b55-386a-4c2d-af22-4fcc8f3772f4",
   "metadata": {},
   "source": [
    "Esto es texto en ***negrita*** y esto es *italica*"
   ]
  },
  {
   "cell_type": "markdown",
   "id": "6222bcf3-a2a7-4178-9111-9f751d30ca5c",
   "metadata": {},
   "source": [
    "- Python\n",
    "- R\n",
    "- Julia"
   ]
  },
  {
   "cell_type": "markdown",
   "id": "8af09db1-f836-4ad8-9697-38d97937b134",
   "metadata": {},
   "source": [
    "<table border=\"1x solid black\">\n",
    "  <tr>\n",
    "    <th>Col 1</th>\n",
    "    <th>Col 2</th>\n",
    "  </tr>\n",
    "  <tr>\n",
    "    <td style=\"background-color:#FF1744\">1a</td>\n",
    "    <td>2a</td>\n",
    "  </tr>\n",
    "  <tr>\n",
    "    <td style=\"background-color:#00CD33\">1b</td>\n",
    "    <td>2b</td>\n",
    "  </tr>\n",
    "</table>"
   ]
  },
  {
   "cell_type": "markdown",
   "id": "91c7a96d-a129-4152-a8fc-146d69a4cfce",
   "metadata": {},
   "source": [
    "#### Python"
   ]
  },
  {
   "cell_type": "code",
   "execution_count": 22,
   "id": "43ca5aa9-3ecd-4425-a9cf-20b1800fa121",
   "metadata": {},
   "outputs": [
    {
     "data": {
      "text/plain": [
       "70"
      ]
     },
     "execution_count": 22,
     "metadata": {},
     "output_type": "execute_result"
    }
   ],
   "source": [
    "# declaracion de varibles enteras\n",
    "\n",
    "num1 = 45\n",
    "num2 =25\n",
    "res = num1 + num2\n",
    "res"
   ]
  },
  {
   "cell_type": "code",
   "execution_count": 23,
   "id": "191442b0-7ab7-4a10-902c-1ec8bb8af219",
   "metadata": {},
   "outputs": [
    {
     "data": {
      "text/plain": [
       "'Esto es un string'"
      ]
     },
     "execution_count": 23,
     "metadata": {},
     "output_type": "execute_result"
    }
   ],
   "source": [
    "# declaracion de variables string\n",
    "\n",
    "mi_str = \"Esto es un string\"\n",
    "mi_str"
   ]
  },
  {
   "cell_type": "code",
   "execution_count": 24,
   "id": "f2f83902-5fa7-4eda-9ae6-90a327835d48",
   "metadata": {},
   "outputs": [
    {
     "data": {
      "text/plain": [
       "'Esto es un \"string\" de letras'"
      ]
     },
     "execution_count": 24,
     "metadata": {},
     "output_type": "execute_result"
    }
   ],
   "source": [
    "mi_str = 'Esto es un \"string\" de letras'\n",
    "mi_str"
   ]
  },
  {
   "cell_type": "code",
   "execution_count": 25,
   "id": "9f062965-a728-46e2-bee1-7084c9073369",
   "metadata": {},
   "outputs": [
    {
     "data": {
      "text/plain": [
       "str"
      ]
     },
     "execution_count": 25,
     "metadata": {},
     "output_type": "execute_result"
    }
   ],
   "source": [
    "type(mi_str)"
   ]
  },
  {
   "cell_type": "code",
   "execution_count": 26,
   "id": "e7a0097f-d2ac-426c-abb6-742de7e6d3a8",
   "metadata": {},
   "outputs": [
    {
     "data": {
      "text/plain": [
       "int"
      ]
     },
     "execution_count": 26,
     "metadata": {},
     "output_type": "execute_result"
    }
   ],
   "source": [
    "type(num1)"
   ]
  },
  {
   "cell_type": "code",
   "execution_count": 27,
   "id": "38d4c743-cb7a-4efd-a277-51acb3a3a46e",
   "metadata": {},
   "outputs": [
    {
     "data": {
      "text/plain": [
       "float"
      ]
     },
     "execution_count": 27,
     "metadata": {},
     "output_type": "execute_result"
    }
   ],
   "source": [
    "temp = 35.5689\n",
    "type(temp)"
   ]
  },
  {
   "cell_type": "code",
   "execution_count": 28,
   "id": "823ff802-c219-440d-8494-76213ea3dfdf",
   "metadata": {},
   "outputs": [
    {
     "data": {
      "text/plain": [
       "bool"
      ]
     },
     "execution_count": 28,
     "metadata": {},
     "output_type": "execute_result"
    }
   ],
   "source": [
    "is_activated = False\n",
    "type(is_activated)"
   ]
  },
  {
   "cell_type": "markdown",
   "id": "8ee6f78b-5080-4ace-a9be-60d69ffd632c",
   "metadata": {},
   "source": [
    "### 2. Despliegue"
   ]
  },
  {
   "cell_type": "code",
   "execution_count": 29,
   "id": "3245ca36-5c2d-4fda-98c4-6f253312ac52",
   "metadata": {},
   "outputs": [
    {
     "name": "stdout",
     "output_type": "stream",
     "text": [
      "El resultado es: 70\n"
     ]
    }
   ],
   "source": [
    "print(\"El resultado es: \" + str(res))"
   ]
  },
  {
   "cell_type": "code",
   "execution_count": 30,
   "id": "d4b26b7e-b45d-4142-acb5-b4ad1719e0ab",
   "metadata": {},
   "outputs": [
    {
     "name": "stdout",
     "output_type": "stream",
     "text": [
      "El resultado es:  70\n"
     ]
    }
   ],
   "source": [
    "print(\"El resultado es: \", res)"
   ]
  },
  {
   "cell_type": "code",
   "execution_count": 31,
   "id": "b27a8351-bab6-42bb-82ae-a29c35e2109c",
   "metadata": {},
   "outputs": [
    {
     "name": "stdout",
     "output_type": "stream",
     "text": [
      "El resultado es: 70\n"
     ]
    }
   ],
   "source": [
    "print(\"El resultado es: {}\".format(res))"
   ]
  },
  {
   "cell_type": "code",
   "execution_count": 32,
   "id": "32cb804d-2ad8-4399-8e92-651d8ec2dcff",
   "metadata": {},
   "outputs": [
    {
     "name": "stdout",
     "output_type": "stream",
     "text": [
      "La suma es 45 + 25 es: 70\n"
     ]
    }
   ],
   "source": [
    "print(\"La suma es {} + {} es: {}\".format(num1, num2, res))"
   ]
  },
  {
   "cell_type": "code",
   "execution_count": 35,
   "id": "585bab8c-72d5-4e82-9d51-e74e6549f5f2",
   "metadata": {},
   "outputs": [
    {
     "name": "stdout",
     "output_type": "stream",
     "text": [
      "La suma de 45 + 25 es: 70\n"
     ]
    }
   ],
   "source": [
    "print(f\"La suma de {num1} + {num2} es: {res}\")"
   ]
  },
  {
   "cell_type": "markdown",
   "id": "3f0fceb7-0939-4f2a-9e58-0fa5cf571476",
   "metadata": {},
   "source": [
    "### 3. Operaciones Basicas de Numeros"
   ]
  },
  {
   "cell_type": "code",
   "execution_count": 49,
   "id": "eaa5419d-de3b-4435-9373-6ccb43593cb9",
   "metadata": {},
   "outputs": [
    {
     "name": "stdout",
     "output_type": "stream",
     "text": [
      "Division:  11.2\n",
      "Division Entera:  11\n",
      "Potencia :  550731776\n"
     ]
    }
   ],
   "source": [
    "num1 = 56\n",
    "num2 = 5\n",
    "\n",
    "suma = num1 + num2\n",
    "resta = num1 - num2\n",
    "mult = num1 * num2\n",
    "\n",
    "div = num1 / num2\n",
    "print(\"Division: \", div)\n",
    "\n",
    "int_div = num1 // num2\n",
    "print(\"Division Entera: \", int_div)\n",
    "\n",
    "potencia = num1 ** num2\n",
    "print(\"Potencia : \", potencia)"
   ]
  },
  {
   "cell_type": "code",
   "execution_count": 55,
   "id": "008fd4c1-145e-4bc5-a22d-dbf8557b65ee",
   "metadata": {},
   "outputs": [
    {
     "name": "stdout",
     "output_type": "stream",
     "text": [
      "Potencia con Math:  3136.0\n",
      "Raiz Cuadrada:  7.4833\n"
     ]
    }
   ],
   "source": [
    "import math\n",
    "\n",
    "cuadrado = math.pow(num1, 2)\n",
    "print(\"Potencia con Math: \", cuadrado)\n",
    "\n",
    "raiz = math.sqrt(num1)\n",
    "raiz = round(raiz, 4)\n",
    "print(\"Raiz Cuadrada: \", raiz)"
   ]
  },
  {
   "cell_type": "markdown",
   "id": "c8c84f15-d8ea-4de4-8a0b-3c99c9934cd1",
   "metadata": {},
   "source": [
    "### 4. Entrada de Datos"
   ]
  },
  {
   "cell_type": "code",
   "execution_count": 59,
   "id": "01c37e00-1093-4130-a0cf-6241c1e91332",
   "metadata": {},
   "outputs": [
    {
     "name": "stdin",
     "output_type": "stream",
     "text": [
      "Ingrese su edad:  25\n"
     ]
    },
    {
     "name": "stdout",
     "output_type": "stream",
     "text": [
      "Su edad el siguiente ano es:  26\n"
     ]
    }
   ],
   "source": [
    "num1 = input(\"Ingrese su edad: \")\n",
    "print(\"Su edad el siguiente ano es: \", int(num1) + 1)"
   ]
  },
  {
   "cell_type": "code",
   "execution_count": 62,
   "id": "d9e97d2f-bef8-45d4-81ff-67bd008d5a53",
   "metadata": {},
   "outputs": [
    {
     "data": {
      "text/plain": [
       "123"
      ]
     },
     "execution_count": 62,
     "metadata": {},
     "output_type": "execute_result"
    }
   ],
   "source": [
    "int(\"123\") # cast de str a int"
   ]
  },
  {
   "cell_type": "code",
   "execution_count": 64,
   "id": "09b9fa57-24ee-4259-8251-e65534a35ef7",
   "metadata": {},
   "outputs": [
    {
     "data": {
      "text/plain": [
       "123.123"
      ]
     },
     "execution_count": 64,
     "metadata": {},
     "output_type": "execute_result"
    }
   ],
   "source": [
    "float(\"123.123\") # cast de str a float"
   ]
  }
 ],
 "metadata": {
  "kernelspec": {
   "display_name": "Python 3 (ipykernel)",
   "language": "python",
   "name": "python3"
  },
  "language_info": {
   "codemirror_mode": {
    "name": "ipython",
    "version": 3
   },
   "file_extension": ".py",
   "mimetype": "text/x-python",
   "name": "python",
   "nbconvert_exporter": "python",
   "pygments_lexer": "ipython3",
   "version": "3.12.7"
  }
 },
 "nbformat": 4,
 "nbformat_minor": 5
}
