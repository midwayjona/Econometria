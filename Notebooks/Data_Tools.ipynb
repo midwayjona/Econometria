{
 "cells": [
  {
   "cell_type": "markdown",
   "id": "bb25a678-6d42-43c0-aa98-a62175d4205f",
   "metadata": {},
   "source": [
    "### 1. Diccionarios"
   ]
  },
  {
   "cell_type": "code",
   "execution_count": 2,
   "id": "f856708c-337f-4e4a-9561-600cc17828f3",
   "metadata": {},
   "outputs": [
    {
     "data": {
      "text/plain": [
       "{'js': 'javascript',\n",
       " 'py': 'Python',\n",
       " 'jv': 'Java',\n",
       " 'kt': 'Kotlin',\n",
       " 'sm': 'Smalltalk'}"
      ]
     },
     "execution_count": 2,
     "metadata": {},
     "output_type": "execute_result"
    }
   ],
   "source": [
    "lenguajes = {'js': 'javascript',\n",
    "             'py': 'Python',\n",
    "             'jv': 'Java',\n",
    "             'kt': 'Kotlin',\n",
    "             'sm': 'Smalltalk'}\n",
    "\n",
    "lenguajes"
   ]
  },
  {
   "cell_type": "code",
   "execution_count": 5,
   "id": "43469656-6ea7-4983-9dc8-9d2726a78fdf",
   "metadata": {},
   "outputs": [
    {
     "data": {
      "text/plain": [
       "'Kotlin'"
      ]
     },
     "execution_count": 5,
     "metadata": {},
     "output_type": "execute_result"
    }
   ],
   "source": [
    "lenguajes['kt']"
   ]
  },
  {
   "cell_type": "code",
   "execution_count": 7,
   "id": "181afff7-533a-4bc5-bb4c-f70b1c0f37f6",
   "metadata": {},
   "outputs": [
    {
     "data": {
      "text/plain": [
       "{'js': 'javascript',\n",
       " 'py': 'Python',\n",
       " 'jv': 'Java',\n",
       " 'kt': 'Kotlin',\n",
       " 'sm': 'Smalltalk',\n",
       " 'jl': 'Julia'}"
      ]
     },
     "execution_count": 7,
     "metadata": {},
     "output_type": "execute_result"
    }
   ],
   "source": [
    "# Agregamos un valor\n",
    "lenguajes['jl'] = 'Julia'\n",
    "lenguajes"
   ]
  },
  {
   "cell_type": "code",
   "execution_count": 9,
   "id": "05a2754c-64f0-43f9-ba20-7ed0086e11f9",
   "metadata": {},
   "outputs": [
    {
     "data": {
      "text/plain": [
       "'Smalltalk'"
      ]
     },
     "execution_count": 9,
     "metadata": {},
     "output_type": "execute_result"
    }
   ],
   "source": [
    "lenguajes.pop('sm') # eliminamos rl registro (llave + valor) smalltalk"
   ]
  },
  {
   "cell_type": "code",
   "execution_count": 10,
   "id": "3c72e4e3-210e-4d85-b671-418f8fb8d12d",
   "metadata": {},
   "outputs": [
    {
     "data": {
      "text/plain": [
       "{'js': 'javascript',\n",
       " 'py': 'Python',\n",
       " 'jv': 'Java',\n",
       " 'kt': 'Kotlin',\n",
       " 'jl': 'Julia'}"
      ]
     },
     "execution_count": 10,
     "metadata": {},
     "output_type": "execute_result"
    }
   ],
   "source": [
    "lenguajes"
   ]
  },
  {
   "cell_type": "code",
   "execution_count": 37,
   "id": "46ea9954-1447-4234-9ca6-29e14bdefdf0",
   "metadata": {},
   "outputs": [
    {
     "data": {
      "text/plain": [
       "{'SVM': 0.8575, 'ANN': 0.8956, 'RL': 0.7896}"
      ]
     },
     "execution_count": 37,
     "metadata": {},
     "output_type": "execute_result"
    }
   ],
   "source": [
    "metricas_modelos = dict(SVM=0.8575, ANN=0.8956, RL=0.7896) # constructor del diccionario\n",
    "metricas_modelos"
   ]
  },
  {
   "cell_type": "code",
   "execution_count": 38,
   "id": "c84831e0-4ada-4566-b368-af3b5c9b6bdd",
   "metadata": {},
   "outputs": [
    {
     "data": {
      "text/plain": [
       "['js', 'py', 'jv', 'kt', 'jl']"
      ]
     },
     "execution_count": 38,
     "metadata": {},
     "output_type": "execute_result"
    }
   ],
   "source": [
    "list(lenguajes.keys()) # obtenemos las llaves"
   ]
  },
  {
   "cell_type": "code",
   "execution_count": 39,
   "id": "c79ab230-9f13-4a96-b30d-c530aca1f197",
   "metadata": {},
   "outputs": [
    {
     "data": {
      "text/plain": [
       "['javascript', 'Python', 'Java', 'Kotlin', 'Julia']"
      ]
     },
     "execution_count": 39,
     "metadata": {},
     "output_type": "execute_result"
    }
   ],
   "source": [
    "list(lenguajes.values()) # obtenemos todos los valores"
   ]
  },
  {
   "cell_type": "code",
   "execution_count": 40,
   "id": "c967a866-2ac8-4311-94cb-1cf75a11cf5c",
   "metadata": {},
   "outputs": [
    {
     "data": {
      "text/plain": [
       "[('js', 'javascript'),\n",
       " ('py', 'Python'),\n",
       " ('jv', 'Java'),\n",
       " ('kt', 'Kotlin'),\n",
       " ('jl', 'Julia')]"
      ]
     },
     "execution_count": 40,
     "metadata": {},
     "output_type": "execute_result"
    }
   ],
   "source": [
    "registros = list(lenguajes.items()) # devuelve una lista de tuplas de cada registro\n",
    "registros"
   ]
  },
  {
   "cell_type": "code",
   "execution_count": 41,
   "id": "ca7bf51e-7c1b-4011-a17c-dbf7325e4a82",
   "metadata": {},
   "outputs": [
    {
     "data": {
      "text/plain": [
       "tuple"
      ]
     },
     "execution_count": 41,
     "metadata": {},
     "output_type": "execute_result"
    }
   ],
   "source": [
    "type(registros[1])"
   ]
  },
  {
   "cell_type": "code",
   "execution_count": 42,
   "id": "8fa023c5-97bb-42c4-a14d-3744f7203f3f",
   "metadata": {},
   "outputs": [
    {
     "data": {
      "text/plain": [
       "'js'"
      ]
     },
     "execution_count": 42,
     "metadata": {},
     "output_type": "execute_result"
    }
   ],
   "source": [
    "js = registros[0]\n",
    "js[0]"
   ]
  },
  {
   "cell_type": "code",
   "execution_count": 43,
   "id": "c8c64944-a77f-4943-8192-38a0eaf93267",
   "metadata": {},
   "outputs": [
    {
     "data": {
      "text/plain": [
       "{'prm_nombre': 'JONATHAN',\n",
       " 'sgd_nombre': 'JOSE',\n",
       " 'prm_apellido': 'AMADO',\n",
       " 'sgd_apellido': 'MORENO'}"
      ]
     },
     "execution_count": 43,
     "metadata": {},
     "output_type": "execute_result"
    }
   ],
   "source": [
    "# comprehentions para diccionarios\n",
    "\n",
    "nombre_completo = {'prm_nombre': 'Jonathan',\n",
    "                   'sgd_nombre': 'Jose',\n",
    "                   'prm_apellido': 'Amado',\n",
    "                   'sgd_apellido': 'Moreno'}\n",
    "\n",
    "{k:v.upper() for k, v in nombre_completo.items()}"
   ]
  },
  {
   "cell_type": "code",
   "execution_count": null,
   "id": "924a7009-03b0-4b57-93fe-a1e6c05b9c74",
   "metadata": {},
   "outputs": [],
   "source": []
  }
 ],
 "metadata": {
  "kernelspec": {
   "display_name": "Python 3 (ipykernel)",
   "language": "python",
   "name": "python3"
  },
  "language_info": {
   "codemirror_mode": {
    "name": "ipython",
    "version": 3
   },
   "file_extension": ".py",
   "mimetype": "text/x-python",
   "name": "python",
   "nbconvert_exporter": "python",
   "pygments_lexer": "ipython3",
   "version": "3.12.7"
  }
 },
 "nbformat": 4,
 "nbformat_minor": 5
}
