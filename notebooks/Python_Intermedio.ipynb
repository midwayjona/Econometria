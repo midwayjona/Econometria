{
 "cells": [
  {
   "cell_type": "markdown",
   "id": "060ca16e-dad4-4f5d-9f11-3f88ad7f6e9f",
   "metadata": {},
   "source": [
    "### 1. Booleanos"
   ]
  },
  {
   "cell_type": "code",
   "execution_count": 1,
   "id": "53a7f389-d025-4084-a114-57433d6eff84",
   "metadata": {},
   "outputs": [],
   "source": [
    "a = True\n",
    "b = False"
   ]
  },
  {
   "cell_type": "code",
   "execution_count": 2,
   "id": "df9db47e-ed6d-4506-9230-e2abd3e5a2da",
   "metadata": {},
   "outputs": [
    {
     "data": {
      "text/plain": [
       "False"
      ]
     },
     "execution_count": 2,
     "metadata": {},
     "output_type": "execute_result"
    }
   ],
   "source": [
    "a & b # AND bitwise"
   ]
  },
  {
   "cell_type": "code",
   "execution_count": 3,
   "id": "1de0c10e-1942-4f98-8700-4c6f4e184bd7",
   "metadata": {},
   "outputs": [
    {
     "data": {
      "text/plain": [
       "0"
      ]
     },
     "execution_count": 3,
     "metadata": {},
     "output_type": "execute_result"
    }
   ],
   "source": [
    "a * b # AND bitwise"
   ]
  },
  {
   "cell_type": "code",
   "execution_count": 4,
   "id": "d811bebf-8995-4b68-b1a0-29b184c56c8f",
   "metadata": {},
   "outputs": [
    {
     "data": {
      "text/plain": [
       "True"
      ]
     },
     "execution_count": 4,
     "metadata": {},
     "output_type": "execute_result"
    }
   ],
   "source": [
    "a | b # OR bitwise"
   ]
  },
  {
   "cell_type": "markdown",
   "id": "88d7ce18-45a5-4d81-a4aa-733705aec688",
   "metadata": {},
   "source": [
    "### 2. Operaciones para Condicionales"
   ]
  },
  {
   "cell_type": "code",
   "execution_count": 59,
   "id": "5a4d8e0b-4976-4817-8fb0-da52c4dac3b9",
   "metadata": {},
   "outputs": [
    {
     "data": {
      "text/plain": [
       "False"
      ]
     },
     "execution_count": 59,
     "metadata": {},
     "output_type": "execute_result"
    }
   ],
   "source": [
    "a and b # AND para condicional"
   ]
  },
  {
   "cell_type": "code",
   "execution_count": 60,
   "id": "b2a740c0-4d76-444d-b13e-19291e4da3d4",
   "metadata": {},
   "outputs": [
    {
     "data": {
      "text/plain": [
       "True"
      ]
     },
     "execution_count": 60,
     "metadata": {},
     "output_type": "execute_result"
    }
   ],
   "source": [
    "a or b # OR para condicional"
   ]
  },
  {
   "cell_type": "code",
   "execution_count": 61,
   "id": "ef5b8eb5-8055-4063-b049-7133bf3d344a",
   "metadata": {},
   "outputs": [
    {
     "data": {
      "text/plain": [
       "False"
      ]
     },
     "execution_count": 61,
     "metadata": {},
     "output_type": "execute_result"
    }
   ],
   "source": [
    "\"p\" in \"Hola\" # hay una letra \"p\" en \"hola\""
   ]
  },
  {
   "cell_type": "markdown",
   "id": "35b8b82d-c34a-4940-9649-38ffe87aa84a",
   "metadata": {},
   "source": [
    "### 3. Condicionales"
   ]
  },
  {
   "cell_type": "code",
   "execution_count": 62,
   "id": "cdd30ab1-7401-446f-9b9d-ae4bffdf1b66",
   "metadata": {},
   "outputs": [
    {
     "name": "stdout",
     "output_type": "stream",
     "text": [
      "Positivo\n"
     ]
    }
   ],
   "source": [
    "numero = 10\n",
    "\n",
    "if(numero >= 0):\n",
    "    print(\"Positivo\") # antecedente\n",
    "else:\n",
    "    print(\"Negativo\") # consecuente"
   ]
  },
  {
   "cell_type": "code",
   "execution_count": 63,
   "id": "0a175011-c8b1-48d1-9bb6-52f7390f8b27",
   "metadata": {},
   "outputs": [
    {
     "name": "stdout",
     "output_type": "stream",
     "text": [
      "El dia es fin de semana\n"
     ]
    }
   ],
   "source": [
    "dia = 25\n",
    "\n",
    "if(dia == 1):\n",
    "    dia_str = \"lunes\"\n",
    "elif (dia == 2):\n",
    "    dia_str = \"martes\"\n",
    "elif (dia == 3):\n",
    "    dia_str = \"miercoles\"\n",
    "elif (dia == 4):\n",
    "    dia_str = \"jueves\"\n",
    "elif (dia == 5):\n",
    "    dia_str = \"viernes\"\n",
    "else:\n",
    "    dia_str = \"fin de semana\"\n",
    "\n",
    "print (f\"El dia es {dia_str}\")"
   ]
  },
  {
   "cell_type": "markdown",
   "id": "01a1fb16-f77f-430e-b1a5-b95819ec28db",
   "metadata": {},
   "source": [
    "#### match-case - disponible a partir de version 3.10"
   ]
  },
  {
   "cell_type": "code",
   "execution_count": 64,
   "id": "4ea1d4a5-ce12-4f72-b1ec-fafc0469ab4f",
   "metadata": {},
   "outputs": [
    {
     "name": "stdout",
     "output_type": "stream",
     "text": [
      "It's Monday!\n"
     ]
    }
   ],
   "source": [
    "day = \"Monday\"\n",
    "\n",
    "match day:\n",
    "    case \"Monday\":\n",
    "        print(\"It's Monday!\")\n",
    "    case \"Tuesday\":\n",
    "        print(\"It's Tuesday!\")\n",
    "    case \"Wednesday\":\n",
    "        print(\"It's Wednesday!\")\n",
    "    case _:\n",
    "        print(\"It's not Monday, Tuesday, or Wednesday.\")"
   ]
  },
  {
   "cell_type": "markdown",
   "id": "b550b700-a736-40e1-9b16-5f01b13afc22",
   "metadata": {},
   "source": [
    "### 4. Ciclos\n",
    "\n",
    "#### Ciclo While"
   ]
  },
  {
   "cell_type": "code",
   "execution_count": 44,
   "id": "bfe59d95-e9ce-4c0a-88ef-ad4c24911890",
   "metadata": {},
   "outputs": [],
   "source": [
    "import random"
   ]
  },
  {
   "cell_type": "code",
   "execution_count": 46,
   "id": "4945f011-3157-419a-8c60-fda707bb5b51",
   "metadata": {},
   "outputs": [
    {
     "name": "stdout",
     "output_type": "stream",
     "text": [
      "El valor especial es: 4\n"
     ]
    },
    {
     "name": "stdin",
     "output_type": "stream",
     "text": [
      "Ingrese un numero:  4\n"
     ]
    },
    {
     "name": "stdout",
     "output_type": "stream",
     "text": [
      "fin del cliclo\n"
     ]
    }
   ],
   "source": [
    "valor_especial = random.randint(1,10)\n",
    "print(F\"El valor especial es: {valor_especial}\")\n",
    "\n",
    "valor = None\n",
    "\n",
    "while(valor != valor_especial):\n",
    "    valor = int(input(\"Ingrese un numero: \"))\n",
    "\n",
    "print(\"fin del cliclo\")"
   ]
  },
  {
   "cell_type": "code",
   "execution_count": 47,
   "id": "f87814e4-5dc1-40f0-a510-ffd18a710e48",
   "metadata": {},
   "outputs": [
    {
     "name": "stdin",
     "output_type": "stream",
     "text": [
      "Ingrese un numero:  100\n"
     ]
    },
    {
     "name": "stdout",
     "output_type": "stream",
     "text": [
      "El acumulador es: 100\n",
      "Limite alcanzado.\n"
     ]
    }
   ],
   "source": [
    "acc = 0\n",
    "valor = 0\n",
    "\n",
    "while (valor < 100):\n",
    "    valor = int(input(\"Ingrese un numero: \"))\n",
    "    acc = acc + valor\n",
    "    print(f\"El acumulador es: {acc}\")\n",
    "\n",
    "print(\"Limite alcanzado.\")"
   ]
  },
  {
   "cell_type": "markdown",
   "id": "2e28ed10-cd4a-44df-8e86-25221b47ce31",
   "metadata": {},
   "source": [
    "### 5. Funciones"
   ]
  },
  {
   "cell_type": "code",
   "execution_count": 52,
   "id": "f43a0839-6943-440a-9843-2e955ca33bec",
   "metadata": {},
   "outputs": [],
   "source": [
    "# Def the function\n",
    "\n",
    "def saludo():\n",
    "    print(\"Hola Mundo!\")"
   ]
  },
  {
   "cell_type": "code",
   "execution_count": 53,
   "id": "bbc94dd9-52b9-4d5c-a6c0-81c51744075d",
   "metadata": {},
   "outputs": [
    {
     "name": "stdout",
     "output_type": "stream",
     "text": [
      "Hola Mundo!\n"
     ]
    }
   ],
   "source": [
    "# Run function\n",
    "\n",
    "saludo()"
   ]
  },
  {
   "cell_type": "code",
   "execution_count": 84,
   "id": "7919975c-dd71-453e-a5cf-5252050712ae",
   "metadata": {},
   "outputs": [],
   "source": [
    "def saludar_con_nombre (nombre, edad, profesion):\n",
    "    print(f\"Hola: {nombre}, tienes {edad} anos y eres {profesion}\")"
   ]
  },
  {
   "cell_type": "code",
   "execution_count": 85,
   "id": "455fd3fe-4a50-4a5a-9138-a16097b94552",
   "metadata": {},
   "outputs": [
    {
     "name": "stdout",
     "output_type": "stream",
     "text": [
      "Hola: Jonathan, tienes 28 anos y eres Ingeniero\n"
     ]
    }
   ],
   "source": [
    "saludar_con_nombre(\"Jonathan\", 28, \"Ingeniero\")"
   ]
  },
  {
   "cell_type": "markdown",
   "id": "026dabc3-94eb-49de-bc99-c5cfce52c6f6",
   "metadata": {},
   "source": [
    "#### 5.1 Funciones con argumentos default"
   ]
  },
  {
   "cell_type": "code",
   "execution_count": 86,
   "id": "17d2b0a9-81d8-433b-acd3-d054858c79b4",
   "metadata": {},
   "outputs": [],
   "source": [
    "def saludar_con_nombre_v2(nombre, edad, profesion, pais=\"Guatemala\"):\n",
    "    print(f\"Hola: {nombre}, tienes {edad} anos y eres {profesion}, de {pais}\")"
   ]
  },
  {
   "cell_type": "code",
   "execution_count": 87,
   "id": "3116eeb6-c7d5-4b8d-ac7e-7e8846a45298",
   "metadata": {},
   "outputs": [
    {
     "name": "stdout",
     "output_type": "stream",
     "text": [
      "Hola: Jonathan, tienes 28 anos y eres Ingeniero, de Guatemala\n"
     ]
    }
   ],
   "source": [
    "saludar_con_nombre_v2(\"Jonathan\", 28, \"Ingeniero\")"
   ]
  },
  {
   "cell_type": "code",
   "execution_count": 88,
   "id": "8ee8697a-c5f0-483c-8dd3-9796e508fe2a",
   "metadata": {},
   "outputs": [
    {
     "name": "stdout",
     "output_type": "stream",
     "text": [
      "Hola: Jonathan, tienes 28 anos y eres Ingeniero, de Francia\n"
     ]
    }
   ],
   "source": [
    "saludar_con_nombre_v2(\"Jonathan\", 28, \"Ingeniero\", \"Francia\")"
   ]
  },
  {
   "cell_type": "markdown",
   "id": "fd8b3def-7920-4f39-938f-e7a36ffcfb52",
   "metadata": {},
   "source": [
    "#### 5.2 Multiretorno"
   ]
  },
  {
   "cell_type": "code",
   "execution_count": 89,
   "id": "2217fa28-eb4e-4901-b18f-fcdb00c29f9b",
   "metadata": {},
   "outputs": [],
   "source": [
    "def suma(a, b):\n",
    "    resultado = a + b\n",
    "    return resultado"
   ]
  },
  {
   "cell_type": "code",
   "execution_count": 90,
   "id": "34dcdedf-0bae-449c-9e1c-e672cfe54ff6",
   "metadata": {},
   "outputs": [
    {
     "data": {
      "text/plain": [
       "300"
      ]
     },
     "execution_count": 90,
     "metadata": {},
     "output_type": "execute_result"
    }
   ],
   "source": [
    "suma_total = suma(100, 200)\n",
    "suma_total"
   ]
  },
  {
   "cell_type": "code",
   "execution_count": 91,
   "id": "bbddb9e8-3529-4c75-a86e-49b7e582e87c",
   "metadata": {},
   "outputs": [],
   "source": [
    "def operar(a, b):\n",
    "    suma = a + b\n",
    "    resta = a - b\n",
    "    mult = a * b\n",
    "    div = a / b\n",
    "    return suma, resta, mult, div"
   ]
  },
  {
   "cell_type": "code",
   "execution_count": 92,
   "id": "8ebf9fab-8cac-421b-834e-fad44e2694bf",
   "metadata": {},
   "outputs": [
    {
     "data": {
      "text/plain": [
       "(300, -100, 20000, 0.5)"
      ]
     },
     "execution_count": 92,
     "metadata": {},
     "output_type": "execute_result"
    }
   ],
   "source": [
    "operar(100, 200)"
   ]
  },
  {
   "cell_type": "code",
   "execution_count": 93,
   "id": "0e06aa7a-a9c4-4e7b-9c02-c98374935b95",
   "metadata": {},
   "outputs": [
    {
     "name": "stdout",
     "output_type": "stream",
     "text": [
      "1133\n",
      "-133\n",
      "316500\n",
      "0.7898894154818326\n"
     ]
    }
   ],
   "source": [
    "su, re, mu, di = operar(500, 633)\n",
    "\n",
    "print(su)\n",
    "print(re)\n",
    "print(mu)\n",
    "print(di)"
   ]
  },
  {
   "cell_type": "markdown",
   "id": "70967c15-e564-46de-8ed2-24669f641452",
   "metadata": {},
   "source": [
    "#### 5.3 Tipos de datos para firma de funcion"
   ]
  },
  {
   "cell_type": "code",
   "execution_count": 113,
   "id": "b4ec1200-e547-4510-add5-2e60f77a241c",
   "metadata": {},
   "outputs": [],
   "source": [
    "def saludar_con_nombre (nombre: str, edad: int, profesion: str)->str:\n",
    "    \"\"\"\n",
    "    summary:\n",
    "        nomre (str): nombre de la persona\n",
    "        edad (int): edad de la persona\n",
    "        profesion (str): profesion de la persona\n",
    "        return (str): saluda a la persona\n",
    "    \"\"\"\n",
    "    print(f\"Hola: {nombre}, tienes {edad} anos y eres {profesion}\")"
   ]
  },
  {
   "cell_type": "code",
   "execution_count": 197,
   "id": "f7c167ac-fb8d-43a0-a3d6-823d974da579",
   "metadata": {},
   "outputs": [
    {
     "name": "stdout",
     "output_type": "stream",
     "text": [
      "Hola: 45, tienes Hola anos y eres True\n"
     ]
    }
   ],
   "source": [
    "saludar_con_nombre(45, \"Hola\", True)"
   ]
  },
  {
   "cell_type": "markdown",
   "id": "10e9dfab-22d6-47e8-8213-8bbb00168b24",
   "metadata": {},
   "source": [
    "### 6. Listas\n",
    "\n",
    "1. Indexables\n",
    "2. Dinamicas\n",
    "3. No necesariamente contiene el mismo tipo de dato"
   ]
  },
  {
   "cell_type": "code",
   "execution_count": 198,
   "id": "9bce5dd1-09c6-45a9-a5c3-d2a2ab7a9e33",
   "metadata": {},
   "outputs": [
    {
     "data": {
      "text/plain": [
       "[10, 20, 30, 40, 50]"
      ]
     },
     "execution_count": 198,
     "metadata": {},
     "output_type": "execute_result"
    }
   ],
   "source": [
    "lista = [10, 20, 30, 40, 50]\n",
    "lista"
   ]
  },
  {
   "cell_type": "code",
   "execution_count": 199,
   "id": "89f96cc6-a265-484e-93ec-c222a53c67bd",
   "metadata": {},
   "outputs": [
    {
     "data": {
      "text/plain": [
       "10"
      ]
     },
     "execution_count": 199,
     "metadata": {},
     "output_type": "execute_result"
    }
   ],
   "source": [
    "lista[0]"
   ]
  },
  {
   "cell_type": "code",
   "execution_count": 200,
   "id": "271d3722-67f6-41b0-a8b0-07b6b7f3df8a",
   "metadata": {},
   "outputs": [
    {
     "data": {
      "text/plain": [
       "[30, 40]"
      ]
     },
     "execution_count": 200,
     "metadata": {},
     "output_type": "execute_result"
    }
   ],
   "source": [
    "lista[2:4] # las sub-listas no incluyen el limite superior"
   ]
  },
  {
   "cell_type": "code",
   "execution_count": 201,
   "id": "19f8e573-4267-46e6-b725-43217fe5ff9b",
   "metadata": {},
   "outputs": [
    {
     "data": {
      "text/plain": [
       "5"
      ]
     },
     "execution_count": 201,
     "metadata": {},
     "output_type": "execute_result"
    }
   ],
   "source": [
    "len(lista)"
   ]
  },
  {
   "cell_type": "code",
   "execution_count": 202,
   "id": "569616c3-43e0-4077-a598-ce0042602369",
   "metadata": {},
   "outputs": [
    {
     "data": {
      "text/plain": [
       "[10, 20, 30, 40, 50, 'Galileo']"
      ]
     },
     "execution_count": 202,
     "metadata": {},
     "output_type": "execute_result"
    }
   ],
   "source": [
    "lista.append(\"Galileo\")\n",
    "lista"
   ]
  },
  {
   "cell_type": "code",
   "execution_count": 203,
   "id": "fc58490d-0eb3-44ab-b31c-77952d76db8c",
   "metadata": {},
   "outputs": [
    {
     "data": {
      "text/plain": [
       "[10, 20, 'IOO', 30, 40, 50, 'Galileo']"
      ]
     },
     "execution_count": 203,
     "metadata": {},
     "output_type": "execute_result"
    }
   ],
   "source": [
    "lista.insert(2, 'IOO')\n",
    "lista"
   ]
  },
  {
   "cell_type": "code",
   "execution_count": 204,
   "id": "0abaebed-2482-487f-91c8-b4cc0531721f",
   "metadata": {},
   "outputs": [
    {
     "data": {
      "text/plain": [
       "[10, 20, 'IOO', 30, 40, 50]"
      ]
     },
     "execution_count": 204,
     "metadata": {},
     "output_type": "execute_result"
    }
   ],
   "source": [
    "lista.remove('Galileo')\n",
    "lista"
   ]
  },
  {
   "cell_type": "code",
   "execution_count": 205,
   "id": "767eb98c-ac83-44bf-a7ae-d01fab0bc001",
   "metadata": {},
   "outputs": [
    {
     "data": {
      "text/plain": [
       "'IOO'"
      ]
     },
     "execution_count": 205,
     "metadata": {},
     "output_type": "execute_result"
    }
   ],
   "source": [
    "valor_eliminado = lista.pop(2)\n",
    "valor_eliminado"
   ]
  },
  {
   "cell_type": "code",
   "execution_count": 206,
   "id": "40d5b44b-a549-4723-a8bf-04242f6d309d",
   "metadata": {},
   "outputs": [
    {
     "data": {
      "text/plain": [
       "[10, 20, 30, 40, 50]"
      ]
     },
     "execution_count": 206,
     "metadata": {},
     "output_type": "execute_result"
    }
   ],
   "source": [
    "lista"
   ]
  },
  {
   "cell_type": "code",
   "execution_count": 207,
   "id": "82593d8a-02c8-4ffc-86da-8c1fca72cc1d",
   "metadata": {},
   "outputs": [
    {
     "data": {
      "text/plain": [
       "[10, 56, 89, 74, 1, 25, 63]"
      ]
     },
     "execution_count": 207,
     "metadata": {},
     "output_type": "execute_result"
    }
   ],
   "source": [
    "numeros = [10, 56, 89, 74, 1, 25, 63]\n",
    "numeros"
   ]
  },
  {
   "cell_type": "code",
   "execution_count": 208,
   "id": "af57d51e-6559-4747-b887-862e3f0eb1c8",
   "metadata": {},
   "outputs": [
    {
     "data": {
      "text/plain": [
       "[1, 10, 25, 56, 63, 74, 89]"
      ]
     },
     "execution_count": 208,
     "metadata": {},
     "output_type": "execute_result"
    }
   ],
   "source": [
    "numeros.sort()\n",
    "numeros"
   ]
  },
  {
   "cell_type": "code",
   "execution_count": 209,
   "id": "464e3e79-55c7-44dc-9787-a6be6845e5fb",
   "metadata": {},
   "outputs": [
    {
     "data": {
      "text/plain": [
       "[89, 74, 63, 56, 25, 10, 1]"
      ]
     },
     "execution_count": 209,
     "metadata": {},
     "output_type": "execute_result"
    }
   ],
   "source": [
    "numeros.sort(reverse=True)\n",
    "numeros"
   ]
  },
  {
   "cell_type": "code",
   "execution_count": 210,
   "id": "89f9a6da-1e0d-44ce-9f96-67dc68fb9a64",
   "metadata": {},
   "outputs": [
    {
     "data": {
      "text/plain": [
       "[50, 40, 30, 20, 10]"
      ]
     },
     "execution_count": 210,
     "metadata": {},
     "output_type": "execute_result"
    }
   ],
   "source": [
    "lista.reverse()\n",
    "lista"
   ]
  },
  {
   "cell_type": "code",
   "execution_count": 211,
   "id": "20478970-2209-4a02-9237-feb7fa7aaf45",
   "metadata": {},
   "outputs": [
    {
     "data": {
      "text/plain": [
       "[50, 30, 10]"
      ]
     },
     "execution_count": 211,
     "metadata": {},
     "output_type": "execute_result"
    }
   ],
   "source": [
    "lista[0:5:2] # sub-lista con step de 2 (extraer elementos 2 en 2)"
   ]
  },
  {
   "cell_type": "code",
   "execution_count": 222,
   "id": "401218db-1c7e-464f-8e23-95782dcf2236",
   "metadata": {},
   "outputs": [
    {
     "data": {
      "text/plain": [
       "[3600, 2500, 1600, 900, 400, 100]"
      ]
     },
     "execution_count": 222,
     "metadata": {},
     "output_type": "execute_result"
    }
   ],
   "source": [
    "lista[::-1]"
   ]
  },
  {
   "cell_type": "code",
   "execution_count": 223,
   "id": "18f65799-78c8-40fc-93ea-be39402b803d",
   "metadata": {},
   "outputs": [
    {
     "data": {
      "text/plain": [
       "[3600, 1600, 400]"
      ]
     },
     "execution_count": 223,
     "metadata": {},
     "output_type": "execute_result"
    }
   ],
   "source": [
    "lista[::-2]"
   ]
  },
  {
   "cell_type": "markdown",
   "id": "2072046c-7c37-4c55-977c-1ab6bd63e6e2",
   "metadata": {},
   "source": [
    "### 7. Ciclo FOR"
   ]
  },
  {
   "cell_type": "code",
   "execution_count": 224,
   "id": "3d9aeb14-6a97-4b30-a2c5-0c33e79c8988",
   "metadata": {},
   "outputs": [
    {
     "name": "stdout",
     "output_type": "stream",
     "text": [
      "20\n",
      "40\n",
      "60\n",
      "80\n",
      "100\n",
      "120\n"
     ]
    }
   ],
   "source": [
    "lista = [10, 20, 30, 40, 50, 60]\n",
    "\n",
    "for valor in lista:\n",
    "    print(valor*2)"
   ]
  },
  {
   "cell_type": "code",
   "execution_count": 225,
   "id": "c8130a6b-6928-480e-917a-3325aa21545f",
   "metadata": {},
   "outputs": [
    {
     "data": {
      "text/plain": [
       "[10, 20, 30, 40, 50, 60]"
      ]
     },
     "execution_count": 225,
     "metadata": {},
     "output_type": "execute_result"
    }
   ],
   "source": [
    "list(range(10, 61, 10))"
   ]
  },
  {
   "cell_type": "code",
   "execution_count": 226,
   "id": "20c8e175-6116-4e91-ada9-0eea4eb271ab",
   "metadata": {},
   "outputs": [
    {
     "data": {
      "text/plain": [
       "[100, 200, 300, 400, 500, 600, 700, 800, 900]"
      ]
     },
     "execution_count": 226,
     "metadata": {},
     "output_type": "execute_result"
    }
   ],
   "source": [
    "list(range(100, 1000, 100))"
   ]
  },
  {
   "cell_type": "code",
   "execution_count": 227,
   "id": "f0437c0e-529e-48b9-8047-0dbd2b676711",
   "metadata": {},
   "outputs": [
    {
     "name": "stdout",
     "output_type": "stream",
     "text": [
      "0\n",
      "25\n",
      "50\n",
      "75\n"
     ]
    }
   ],
   "source": [
    "for val in range(0, 100, 25):\n",
    "    print(val)"
   ]
  },
  {
   "cell_type": "code",
   "execution_count": 228,
   "id": "dd6d73cf-1720-4541-916a-11e9b032ad9c",
   "metadata": {},
   "outputs": [
    {
     "name": "stdout",
     "output_type": "stream",
     "text": [
      "El valor del indice 0 es 10\n",
      "El valor del indice 1 es 20\n",
      "El valor del indice 2 es 30\n",
      "El valor del indice 3 es 40\n",
      "El valor del indice 4 es 50\n",
      "El valor del indice 5 es 60\n"
     ]
    }
   ],
   "source": [
    "for index, valor in enumerate(lista):\n",
    "    print(f\"El valor del indice {index} es {valor}\")"
   ]
  },
  {
   "cell_type": "code",
   "execution_count": 229,
   "id": "2ae41bf5-3fbc-46c1-a65e-f9cffb15a617",
   "metadata": {},
   "outputs": [
    {
     "data": {
      "text/plain": [
       "[100, 400, 900, 1600, 2500, 3600]"
      ]
     },
     "execution_count": 229,
     "metadata": {},
     "output_type": "execute_result"
    }
   ],
   "source": [
    "for i, val in enumerate(lista):\n",
    "    lista[i] = val**2\n",
    "\n",
    "lista"
   ]
  },
  {
   "cell_type": "markdown",
   "id": "92256cc9-4082-4be0-b6b2-78b2ab843db5",
   "metadata": {},
   "source": [
    "### 8. Comprenhentions"
   ]
  },
  {
   "cell_type": "code",
   "execution_count": 230,
   "id": "1a3e3ce2-a136-4071-bafd-2ef3c5a2bf84",
   "metadata": {},
   "outputs": [
    {
     "name": "stdout",
     "output_type": "stream",
     "text": [
      "Lapso: 0.0\n"
     ]
    },
    {
     "data": {
      "text/plain": [
       "['A', 'B', 'C', 'D', 'E', 'F']"
      ]
     },
     "execution_count": 230,
     "metadata": {},
     "output_type": "execute_result"
    }
   ],
   "source": [
    "import time\n",
    "\n",
    "letras = ['a', 'b', 'c', 'd', 'e', 'f']\n",
    "mayusculas = []\n",
    "\n",
    "start = time.time()\n",
    "for valor in letras:\n",
    "    mayusculas.append(valor.upper())\n",
    "end = time.time()\n",
    "\n",
    "print(f\"Lapso: {end - start}\")\n",
    "mayusculas"
   ]
  },
  {
   "cell_type": "code",
   "execution_count": 231,
   "id": "0ed9ad43-cfdf-4e94-a1b1-77ee585bb74d",
   "metadata": {},
   "outputs": [
    {
     "name": "stdout",
     "output_type": "stream",
     "text": [
      "Lapso: 0.0005064010620117188\n"
     ]
    },
    {
     "data": {
      "text/plain": [
       "['A', 'B', 'C', 'D', 'E', 'F']"
      ]
     },
     "execution_count": 231,
     "metadata": {},
     "output_type": "execute_result"
    }
   ],
   "source": [
    "start = time.time()\n",
    "mayuculas = [valor.upper() for valor in letras]\n",
    "end = time.time()\n",
    "\n",
    "print(f\"Lapso: {end - start}\")\n",
    "mayusculas"
   ]
  },
  {
   "cell_type": "code",
   "execution_count": null,
   "id": "92163d61-b1fb-4c06-8f98-6974d322ff22",
   "metadata": {},
   "outputs": [],
   "source": []
  }
 ],
 "metadata": {
  "kernelspec": {
   "display_name": "Python 3 (ipykernel)",
   "language": "python",
   "name": "python3"
  },
  "language_info": {
   "codemirror_mode": {
    "name": "ipython",
    "version": 3
   },
   "file_extension": ".py",
   "mimetype": "text/x-python",
   "name": "python",
   "nbconvert_exporter": "python",
   "pygments_lexer": "ipython3",
   "version": "3.12.7"
  }
 },
 "nbformat": 4,
 "nbformat_minor": 5
}
