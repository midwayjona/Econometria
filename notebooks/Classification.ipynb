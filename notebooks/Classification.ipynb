{
 "cells": [
  {
   "cell_type": "code",
   "execution_count": 9,
   "id": "eeb471f3-4f2d-433d-ae3c-559751e88395",
   "metadata": {},
   "outputs": [],
   "source": [
    "## importar librerias\n",
    "\n",
    "import numpy as np\n",
    "import pandas as pd\n",
    "from sklearn.datasets import load_breast_cancer\n",
    "from sklearn.linear_model import LogisticRegression\n",
    "from sklearn.metrics import confusion_matrix, log_loss, classification_report"
   ]
  },
  {
   "cell_type": "code",
   "execution_count": 10,
   "id": "ad0bd189-50b8-42d1-876d-f56189bd5e10",
   "metadata": {},
   "outputs": [
    {
     "name": "stdout",
     "output_type": "stream",
     "text": [
      "Caracteristicas: 30\n",
      "Muestra: 569\n"
     ]
    }
   ],
   "source": [
    "## carga del dataset\n",
    "\n",
    "data = load_breast_cancer()\n",
    "x = data.data # queremos que nos devuelva las características \n",
    "y = data.target # etiquetas -- 0 = benigno | 1 = maligno\n",
    "\n",
    "# mostrar información basica del dataset\n",
    "\n",
    "print(f\"Caracteristicas: {x.shape[1]}\")\n",
    "print(f\"Muestra: {x.shape[0]}\")"
   ]
  },
  {
   "cell_type": "code",
   "execution_count": null,
   "id": "59570ee1-6156-448b-bc08-e12ecf8a2f38",
   "metadata": {},
   "outputs": [],
   "source": []
  },
  {
   "cell_type": "code",
   "execution_count": null,
   "id": "34701677-adec-42cb-b0c3-b6bc1438fc7d",
   "metadata": {},
   "outputs": [],
   "source": []
  }
 ],
 "metadata": {
  "kernelspec": {
   "display_name": "Python 3 (ipykernel)",
   "language": "python",
   "name": "python3"
  },
  "language_info": {
   "codemirror_mode": {
    "name": "ipython",
    "version": 3
   },
   "file_extension": ".py",
   "mimetype": "text/x-python",
   "name": "python",
   "nbconvert_exporter": "python",
   "pygments_lexer": "ipython3",
   "version": "3.12.7"
  }
 },
 "nbformat": 4,
 "nbformat_minor": 5
}
