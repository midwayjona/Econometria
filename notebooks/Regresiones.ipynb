{
 "cells": [
  {
   "cell_type": "code",
   "execution_count": 2,
   "id": "5fb1fc0f-3d9e-4a70-b578-ba71c221a274",
   "metadata": {},
   "outputs": [],
   "source": [
    "import numpy as np\n",
    "import pandas as pd\n",
    "import matplotlib.pyplot as plt\n",
    "import seaborn as sns"
   ]
  },
  {
   "cell_type": "code",
   "execution_count": 11,
   "id": "e25781e2-a37a-4733-a6b0-c5359af880a5",
   "metadata": {},
   "outputs": [
    {
     "name": "stdout",
     "output_type": "stream",
     "text": [
      "Channels:\n",
      " - defaults\n",
      "Platform: osx-arm64\n",
      "Collecting package metadata (repodata.json): done\n",
      "Solving environment: done\n",
      "\n",
      "## Package Plan ##\n",
      "\n",
      "  environment location: /opt/anaconda3/envs/venv-econometria-1\n",
      "\n",
      "  added / updated specs:\n",
      "    - scikit-learn\n",
      "\n",
      "\n",
      "The following packages will be downloaded:\n",
      "\n",
      "    package                    |            build\n",
      "    ---------------------------|-----------------\n",
      "    scikit-learn-1.5.1         |  py312hd77ebd4_0         9.7 MB\n",
      "    scipy-1.14.1               |  py312ha409365_0        22.2 MB\n",
      "    threadpoolctl-3.5.0        |  py312h989b03a_0          49 KB\n",
      "    ------------------------------------------------------------\n",
      "                                           Total:        31.9 MB\n",
      "\n",
      "The following NEW packages will be INSTALLED:\n",
      "\n",
      "  joblib             pkgs/main/osx-arm64::joblib-1.4.2-py312hca03da5_0 \n",
      "  scikit-learn       pkgs/main/osx-arm64::scikit-learn-1.5.1-py312hd77ebd4_0 \n",
      "  scipy              pkgs/main/osx-arm64::scipy-1.14.1-py312ha409365_0 \n",
      "  threadpoolctl      pkgs/main/osx-arm64::threadpoolctl-3.5.0-py312h989b03a_0 \n",
      "\n",
      "\n",
      "\n",
      "Downloading and Extracting Packages:\n",
      "scipy-1.14.1         | 22.2 MB   |                                       |   0% \n",
      "scikit-learn-1.5.1   | 9.7 MB    |                                       |   0% \u001b[A\n",
      "\n",
      "threadpoolctl-3.5.0  | 49 KB     |                                       |   0% \u001b[A\u001b[A\n",
      "\n",
      "scipy-1.14.1         | 22.2 MB   | ########################6             |  67% \u001b[A\u001b[A\n",
      "scikit-learn-1.5.1   | 9.7 MB    |                                       |   0% \u001b[A\n",
      "scikit-learn-1.5.1   | 9.7 MB    | ##########7                           |  29% \u001b[A\n",
      "scipy-1.14.1         | 22.2 MB   | ##################################### | 100% \u001b[A\n",
      "scikit-learn-1.5.1   | 9.7 MB    | ##################################### | 100% \u001b[A\n",
      "                                                                                \u001b[A\n",
      "                                                                                \u001b[A\n",
      "\n",
      "                                                                                \u001b[A\u001b[A\n",
      "Preparing transaction: done\n",
      "Verifying transaction: done\n",
      "Executing transaction: done\n",
      "\n",
      "Note: you may need to restart the kernel to use updated packages.\n"
     ]
    }
   ],
   "source": [
    "conda install scikit-learn"
   ]
  },
  {
   "cell_type": "code",
   "execution_count": 10,
   "id": "49f0dd47-c4f8-44d5-9d2d-a1f1d7c33174",
   "metadata": {},
   "outputs": [
    {
     "name": "stdout",
     "output_type": "stream",
     "text": [
      "Requirement already satisfied: scikit-learn in /opt/anaconda3/lib/python3.12/site-packages (1.4.2)\n",
      "Requirement already satisfied: numpy>=1.19.5 in /opt/anaconda3/lib/python3.12/site-packages (from scikit-learn) (1.26.4)\n",
      "Requirement already satisfied: scipy>=1.6.0 in /opt/anaconda3/lib/python3.12/site-packages (from scikit-learn) (1.13.1)\n",
      "Requirement already satisfied: joblib>=1.2.0 in /opt/anaconda3/lib/python3.12/site-packages (from scikit-learn) (1.4.2)\n",
      "Requirement already satisfied: threadpoolctl>=2.0.0 in /opt/anaconda3/lib/python3.12/site-packages (from scikit-learn) (2.2.0)\n"
     ]
    }
   ],
   "source": [
    "#magic cells\n",
    "!pip install scikit-learn"
   ]
  },
  {
   "cell_type": "code",
   "execution_count": 16,
   "id": "cbb9036d-491c-4bb5-aba2-cbec5f1aab74",
   "metadata": {},
   "outputs": [],
   "source": [
    "from sklearn.linear_model import LinearRegression\n",
    "from sklearn.preprocessing import StandardScaler\n",
    "from sklearn.metrics import r2_score"
   ]
  },
  {
   "cell_type": "code",
   "execution_count": null,
   "id": "3dbbe4ae-7a96-4a47-97ef-3b2602f1130a",
   "metadata": {},
   "outputs": [],
   "source": []
  }
 ],
 "metadata": {
  "kernelspec": {
   "display_name": "Python 3 (ipykernel)",
   "language": "python",
   "name": "python3"
  },
  "language_info": {
   "codemirror_mode": {
    "name": "ipython",
    "version": 3
   },
   "file_extension": ".py",
   "mimetype": "text/x-python",
   "name": "python",
   "nbconvert_exporter": "python",
   "pygments_lexer": "ipython3",
   "version": "3.12.7"
  }
 },
 "nbformat": 4,
 "nbformat_minor": 5
}
