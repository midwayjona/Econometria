{
 "cells": [
  {
   "cell_type": "markdown",
   "id": "0ff17cdc-de4d-4efc-bf71-345022a221d4",
   "metadata": {},
   "source": [
    "# Laboratorio 1 - Econometría I\n",
    "\n",
    "## Sintaxis y Estructuras de Datos en Python\n",
    "\n",
    "En este laboratorio, abordaremos varios ejercicios prácticos para afianzar los conceptos de sintaxis y estructuras de datos en Python. Los ejercicios cubren temas como el manejo de listas, tuplas, diccionarios y sets, además de cálculos básicos y manipulación de datos. Estos ejercicios son fundamentales para desarrollar habilidades de programación que serán útiles en aplicaciones econométricas.\n",
    "\n",
    "Cada problema incluye ejemplos de entrada y salida, y se busca que el código esté bien documentado para facilitar su comprensión.\n"
   ]
  },
  {
   "cell_type": "markdown",
   "id": "4947c59f-4e73-41b0-802f-c791418c8346",
   "metadata": {},
   "source": [
    "### Problema 1: Conversión de Segundos a Horas, Minutos y Segundos\n",
    "\n",
    "Escribe un programa en Python que reciba un número de segundos y despliegue el tiempo en horas, minutos y segundos correspondientes.\n",
    "\n",
    "**Ejemplo:**\n",
    "- Entrada: `2743`\n",
    "- Salida esperada: `Horas: 0, Minutos: 45, Segundos: 43`\n",
    "- Entrada: `5871`\n",
    "- Salida esperada: `Horas: 1, Minutos: 37, Segundos: 51`\n",
    "\n",
    "#### Solución\n"
   ]
  },
  {
   "cell_type": "code",
   "execution_count": 57,
   "id": "a0ff0742-ddad-4789-844f-4704f666b149",
   "metadata": {},
   "outputs": [
    {
     "name": "stdin",
     "output_type": "stream",
     "text": [
      "Ingresa la cantidad de segundos:  5871\n"
     ]
    },
    {
     "name": "stdout",
     "output_type": "stream",
     "text": [
      "Horas: 1, Minutos: 37, Segundos: 51\n"
     ]
    }
   ],
   "source": [
    "def convertir_segundos(segundos):\n",
    "    horas = segundos // 3600\n",
    "    minutos = (segundos % 3600) // 60\n",
    "    segundos_restantes = segundos % 60\n",
    "    return horas, minutos, segundos_restantes\n",
    "\n",
    "# Input del usuario\n",
    "segundos_usuario = int(input(\"Ingresa la cantidad de segundos: \"))\n",
    "\n",
    "# Convertir y mostrar el resultado\n",
    "horas, minutos, segundos = convertir_segundos(segundos_usuario)\n",
    "print(f\"Horas: {horas}, Minutos: {minutos}, Segundos: {segundos}\")"
   ]
  },
  {
   "cell_type": "markdown",
   "id": "43ae02e5-0414-4228-b273-1cfb9992024f",
   "metadata": {},
   "source": [
    "### Problema 2: Cálculo de Edad en Años, Meses y Días\n",
    "\n",
    "Escribe un programa en Python que reciba la fecha de nacimiento de una persona (día, mes y año) y calcule su edad en años, meses y días. El resultado puede ser aproximado.\n",
    "\n",
    "**Ejemplo:**\n",
    "- Entrada: `Día: 15, Mes: 8, Año: 1990`\n",
    "- Salida esperada: `Años: 34, Meses: 2, Días: 20` (dependiendo de la fecha actual)\n",
    "\n",
    "#### Solución\n"
   ]
  },
  {
   "cell_type": "code",
   "execution_count": 58,
   "id": "5f5a2b9e-e4e2-48ba-a8c8-2c3952e035bb",
   "metadata": {},
   "outputs": [
    {
     "name": "stdin",
     "output_type": "stream",
     "text": [
      "Ingresa el día de nacimiento:  5\n",
      "Ingresa el mes de nacimiento:  8\n",
      "Ingresa el año de nacimiento:  1995\n"
     ]
    },
    {
     "name": "stdout",
     "output_type": "stream",
     "text": [
      "Años: 29, Meses: 3, Días: 5\n"
     ]
    }
   ],
   "source": [
    "from datetime import datetime\n",
    "\n",
    "def calcular_edad(dia, mes, anio):\n",
    "    fecha_nacimiento = datetime(anio, mes, dia)\n",
    "    fecha_actual = datetime.now()\n",
    "    \n",
    "    # Cálculo de años, meses y días\n",
    "    anos = fecha_actual.year - fecha_nacimiento.year\n",
    "    meses = fecha_actual.month - fecha_nacimiento.month\n",
    "    dias = fecha_actual.day - fecha_nacimiento.day\n",
    "\n",
    "    return anos, meses, dias\n",
    "\n",
    "# Solicitar input del usuario\n",
    "dia = int(input(\"Ingresa el día de nacimiento: \"))\n",
    "mes = int(input(\"Ingresa el mes de nacimiento: \"))\n",
    "anio = int(input(\"Ingresa el año de nacimiento: \"))\n",
    "\n",
    "# Calcular y mostrar la edad\n",
    "anos, meses, dias = calcular_edad(dia, mes, anio)\n",
    "print(f\"Años: {anos}, Meses: {meses}, Días: {dias}\")"
   ]
  },
  {
   "cell_type": "markdown",
   "id": "2d1a43fe-2f08-4593-a38f-8f466f78f722",
   "metadata": {},
   "source": [
    "### Problema 3: Conversión de una Tupla a un String\n",
    "\n",
    "Escribe una función en Python que, dada una tupla de elementos (números o letras), convierta la tupla en un solo string, concatenando cada elemento.\n",
    "\n",
    "**Ejemplo:**\n",
    "- Entrada: `(10, 20, 40, 5, 70)`\n",
    "- Salida esperada: `\"102040570\"`\n",
    "\n",
    "#### Solución\n"
   ]
  },
  {
   "cell_type": "code",
   "execution_count": 59,
   "id": "b2f6d0e4-2926-422e-b002-330e5a38b60c",
   "metadata": {},
   "outputs": [
    {
     "name": "stdin",
     "output_type": "stream",
     "text": [
      "Ingresa los elementos de la tupla separados por comas (ejemplo: 10, a, 40, b, 70):  10, 20, 40, 5, 70, aq\n"
     ]
    },
    {
     "name": "stdout",
     "output_type": "stream",
     "text": [
      "Tupla convertida a string: 102040570aq\n"
     ]
    }
   ],
   "source": [
    "def tupla_a_string(tupla):\n",
    "    return ''.join(map(str, tupla))\n",
    "\n",
    "# Solicitar entrada del usuario\n",
    "entrada = input(\"Ingresa los elementos de la tupla separados por comas (ejemplo: 10, a, 40, b, 70): \")\n",
    "# Convertir la entrada en una tupla de elementos (números o letras)\n",
    "tupla = tuple(x.strip() for x in entrada.split(','))\n",
    "\n",
    "# Convertir la tupla a string y mostrar el resultado\n",
    "resultado = tupla_a_string(tupla)\n",
    "print(f\"Tupla convertida a string: {resultado}\")"
   ]
  },
  {
   "cell_type": "markdown",
   "id": "b1b547a2-c9c2-467f-b5d4-37cac816fd36",
   "metadata": {},
   "source": [
    "### Problema 4: Eliminación de Tuplas Vacías en una Lista\n",
    "\n",
    "Escribe un programa en Python que, dada una lista de tuplas, elimine las tuplas que están vacías.\n",
    "\n",
    "**Ejemplo:**\n",
    "- Entrada: `[(), (), ('X',), ('a', 'b'), ('a', 'b', 'c'), 'd']`\n",
    "- Salida esperada: `[('X',), ('a', 'b'), ('a', 'b', 'c'), 'd']`\n",
    "\n",
    "#### Solución"
   ]
  },
  {
   "cell_type": "code",
   "execution_count": 60,
   "id": "73976ca1-d610-48df-95e6-23dc01b127a3",
   "metadata": {},
   "outputs": [
    {
     "name": "stdin",
     "output_type": "stream",
     "text": [
      "Ingresa la lista de tuplas (ejemplo: [(), (), ('X',), ('a', 'b'), ('a', 'b', 'c'), 'd']):  [(), (), ('X',), ('a', 'b'), ('a', 'b', 'c'), 'd', 'hola']\n"
     ]
    },
    {
     "name": "stdout",
     "output_type": "stream",
     "text": [
      "Lista sin tuplas vacías: [('X',), ('a', 'b'), ('a', 'b', 'c'), 'd', 'hola']\n"
     ]
    }
   ],
   "source": [
    "import ast\n",
    "\n",
    "def eliminar_tuplas_vacias(lista_tuplas):\n",
    "    return [tupla for tupla in lista_tuplas if tupla]\n",
    "\n",
    "# Input del usuario\n",
    "entrada = input(\"Ingresa la lista de tuplas (ejemplo: [(), (), ('X',), ('a', 'b'), ('a', 'b', 'c'), 'd']): \")\n",
    "\n",
    "# Convertir la entrada en una lista de tuplas usando ast.literal_eval para mayor seguridad\n",
    "try:\n",
    "    lista_tuplas = ast.literal_eval(entrada)\n",
    "    if isinstance(lista_tuplas, list):\n",
    "        # Eliminar tuplas vacías y mostrar el resultado\n",
    "        resultado = eliminar_tuplas_vacias(lista_tuplas)\n",
    "        print(f\"Lista sin tuplas vacías: {resultado}\")\n",
    "    else:\n",
    "        print(\"Error: La entrada debe ser una lista.\")\n",
    "except (ValueError, SyntaxError):\n",
    "    print(\"Error: La entrada no es válida. Asegúrate de usar el formato correcto.\")"
   ]
  },
  {
   "cell_type": "markdown",
   "id": "05e4ff6c-b36f-46bb-b8b2-66a6fa9305b3",
   "metadata": {},
   "source": [
    "### Problema 5: Promedio de Cada Tupla en una Lista de Tuplas\n",
    "\n",
    "Escribe una función en Python que, dada una lista de tuplas con números enteros, produzca una tupla con el promedio de cada tupla individual. Debe usar **list comprehensions** para desarrollar este ejercicio.\n",
    "\n",
    "**Ejemplo:**\n",
    "- Entrada: `[(10, 10, 10, 12), (30, 45, 56, 45), (81, 80, 39, 32)]`\n",
    "- Salida esperada: `(10.5, 44, 58)`\n",
    "\n",
    "#### Solución"
   ]
  },
  {
   "cell_type": "code",
   "execution_count": 63,
   "id": "1351d249-9a09-4ba2-8bf6-8832a7b67cdc",
   "metadata": {},
   "outputs": [
    {
     "name": "stdin",
     "output_type": "stream",
     "text": [
      "Ingresa una lista de tuplas con números enteros (ejemplo: [(10, 10, 10, 12), (30, 45, 56, 45), (81, 80, 39, 32)]):  [(10, 10, 10, 12), (30, 45, 56, 45), (81, 80, 39, 32)]\n"
     ]
    },
    {
     "name": "stdout",
     "output_type": "stream",
     "text": [
      "Promedio de cada tupla: (10.5, 44.0, 58.0)\n"
     ]
    }
   ],
   "source": [
    "def promedio_de_tuplas(lista_tuplas):\n",
    "    # Calcula el promedio de cada tupla en la lista\n",
    "    return tuple(sum(tupla) / len(tupla) for tupla in lista_tuplas if tupla)\n",
    "\n",
    "# Input del usuario\n",
    "entrada = input(\"Ingresa una lista de tuplas con números enteros (ejemplo: [(10, 10, 10, 12), (30, 45, 56, 45), (81, 80, 39, 32)]): \")\n",
    "\n",
    "# Convertir la entrada en una lista de tuplas usando ast.literal_eval\n",
    "import ast\n",
    "try:\n",
    "    lista_tuplas = ast.literal_eval(entrada)\n",
    "    if isinstance(lista_tuplas, list) and all(isinstance(t, tuple) for t in lista_tuplas):\n",
    "        # Calcular y mostrar el promedio de cada tupla\n",
    "        resultado = promedio_de_tuplas(lista_tuplas)\n",
    "        print(f\"Promedio de cada tupla: {resultado}\")\n",
    "    else:\n",
    "        print(\"Error: La entrada debe ser una lista de tuplas.\")\n",
    "except (ValueError, SyntaxError):\n",
    "    print(\"Error: La entrada no es válida. Asegúrate de usar el formato correcto.\")"
   ]
  },
  {
   "cell_type": "markdown",
   "id": "8800b817-b8f1-46b4-9083-fe29c9e35531",
   "metadata": {},
   "source": [
    "### Problema 6: Gestión de Facturas Pendientes de Cobro\n",
    "\n",
    "Escribe un programa que gestione las facturas pendientes de cobro de una empresa. Las facturas se almacenarán en un diccionario donde la llave de cada factura será el número de factura (debe ser un número de 4 dígitos) y el valor será el coste de la factura. \n",
    "\n",
    "El programa debe permitir:\n",
    "- Añadir una nueva factura, solicitando el número de factura y su coste, y mostrar el diccionario actualizado.\n",
    "- Pagar una factura eliminándola del diccionario, y luego mostrar la cantidad cobrada y la cantidad pendiente de cobro.\n",
    "- Terminar el programa.\n",
    "\n",
    "#### Solución"
   ]
  },
  {
   "cell_type": "code",
   "execution_count": 66,
   "id": "c9a0b1f8-43aa-4f4e-aa12-36874d873bbb",
   "metadata": {},
   "outputs": [
    {
     "name": "stdout",
     "output_type": "stream",
     "text": [
      "\n",
      "Opciones:\n",
      "1. Añadir una nueva factura\n",
      "2. Pagar una factura\n",
      "3. Salir\n"
     ]
    },
    {
     "name": "stdin",
     "output_type": "stream",
     "text": [
      "Selecciona una opción (1, 2 o 3):  1\n",
      "Ingrese el número de la factura (4 dígitos):  1010\n",
      "Ingrese el coste de la factura:  4500.50\n"
     ]
    },
    {
     "name": "stdout",
     "output_type": "stream",
     "text": [
      "Factura añadida correctamente.\n",
      "Facturas pendientes: {'1010': 4500.5}\n",
      "\n",
      "Opciones:\n",
      "1. Añadir una nueva factura\n",
      "2. Pagar una factura\n",
      "3. Salir\n"
     ]
    },
    {
     "name": "stdin",
     "output_type": "stream",
     "text": [
      "Selecciona una opción (1, 2 o 3):  2\n",
      "Ingrese el número de la factura a pagar:  1010\n"
     ]
    },
    {
     "name": "stdout",
     "output_type": "stream",
     "text": [
      "Factura 1010 pagada. Coste: 4500.5\n",
      "Total cobrado: 4500.5\n",
      "Facturas pendientes: {}\n",
      "Cantidad pendiente de cobro: 0\n",
      "\n",
      "Opciones:\n",
      "1. Añadir una nueva factura\n",
      "2. Pagar una factura\n",
      "3. Salir\n"
     ]
    },
    {
     "name": "stdin",
     "output_type": "stream",
     "text": [
      "Selecciona una opción (1, 2 o 3):  3\n"
     ]
    },
    {
     "name": "stdout",
     "output_type": "stream",
     "text": [
      "Programa terminado.\n"
     ]
    }
   ],
   "source": [
    "def gestionar_facturas():\n",
    "    facturas = {}\n",
    "    total_cobrado = 0\n",
    "\n",
    "    while True:\n",
    "        print(\"\\nOpciones:\")\n",
    "        print(\"1. Añadir una nueva factura\")\n",
    "        print(\"2. Pagar una factura\")\n",
    "        print(\"3. Salir\")\n",
    "        opcion = input(\"Selecciona una opción (1, 2 o 3): \")\n",
    "\n",
    "        if opcion == '1':\n",
    "            numero_factura = input(\"Ingrese el número de la factura (4 dígitos): \")\n",
    "            if numero_factura in facturas:\n",
    "                print(\"Error: El número de factura ya existe.\")\n",
    "            else:\n",
    "                try:\n",
    "                    coste = float(input(\"Ingrese el coste de la factura: \"))\n",
    "                    facturas[numero_factura] = coste\n",
    "                    print(\"Factura añadida correctamente.\")\n",
    "                    print(\"Facturas pendientes:\", facturas)\n",
    "                except ValueError:\n",
    "                    print(\"Error: Introduzca un número válido para el coste.\")\n",
    "\n",
    "        elif opcion == '2':\n",
    "            numero_factura = input(\"Ingrese el número de la factura a pagar: \")\n",
    "            if numero_factura in facturas:\n",
    "                coste = facturas.pop(numero_factura)\n",
    "                total_cobrado += coste\n",
    "                print(f\"Factura {numero_factura} pagada. Coste: {coste}\")\n",
    "                print(f\"Total cobrado: {total_cobrado}\")\n",
    "                print(\"Facturas pendientes:\", facturas)\n",
    "                print(f\"Cantidad pendiente de cobro: {sum(facturas.values())}\")\n",
    "            else:\n",
    "                print(\"Error: El número de factura no existe.\")\n",
    "\n",
    "        elif opcion == '3':\n",
    "            print(\"Programa terminado.\")\n",
    "            break\n",
    "        else:\n",
    "            print(\"Opción no válida. Por favor, seleccione 1, 2 o 3.\")\n",
    "\n",
    "# Ejecutar el programa de gestión de facturas\n",
    "gestionar_facturas()\n"
   ]
  },
  {
   "cell_type": "markdown",
   "id": "4d80ba01-1dad-4d04-ab45-334a450b322d",
   "metadata": {},
   "source": [
    "### Problema 7: Creación y Manipulación de una Baraja de Póker\n",
    "\n",
    "Escribe un programa en Python que:\n",
    "1. Cree un set con todas las cartas de una baraja de póker utilizando el formato `Tipo-Número`. Usa:\n",
    "   - `T` para tréboles, `C` para corazones, `P` para picas y `E` para espadas.\n",
    "   - Los números van del `1` al `13`.\n",
    "2. Luego, crea dos sets nuevos de cartas, cada uno con una cantidad variable de elementos.\n",
    "3. Calcula la probabilidad de la intersección de ambos conjuntos y determina si son eventos independientes utilizando la regla del producto.\n",
    "4. Calcula la probabilidad de la unión de ambos conjuntos y verifica que se cumpla la regla de la adición.\n",
    "\n",
    "#### Solución\n"
   ]
  },
  {
   "cell_type": "code",
   "execution_count": 68,
   "id": "757c1e5d-b536-4a35-8dbd-4f36e9693aac",
   "metadata": {},
   "outputs": [
    {
     "name": "stdout",
     "output_type": "stream",
     "text": [
      "Mano 1: {'E01', 'E03', 'T09', 'C07', 'T08', 'P11', 'C01', 'C02', 'C09', 'T11', 'C11', 'T01', 'P01', 'T10', 'C12', 'P10', 'C06', 'C03', 'T07', 'E02', 'T06', 'P07', 'P03', 'P06', 'T05', 'P12', 'E13', 'P05', 'E07', 'C08', 'P02'}\n",
      "Mano 2: {'T12', 'T02', 'C07', 'T08', 'E11', 'T11', 'E04', 'C09', 'T01', 'E08', 'C10', 'T13', 'C03', 'T07', 'E02', 'P07', 'P03', 'E12', 'P09', 'T05', 'E05', 'P02', 'P05', 'E07', 'E10', 'C04', 'E06'}\n",
      "Probabilidad de la intersección: 0.2692307692307692\n",
      "Probabilidad de la unión: 0.8461538461538461\n",
      "¿Son independientes? No\n",
      "¿Cumple la regla de la adición? Sí\n"
     ]
    }
   ],
   "source": [
    "import random\n",
    "\n",
    "def crear_baraja():\n",
    "    tipos = ['T', 'C', 'P', 'E']\n",
    "    numeros = range(1, 14)\n",
    "    return {f\"{tipo}{str(numero).zfill(2)}\" for tipo in tipos for numero in numeros}\n",
    "\n",
    "def crear_mano(baraja, tamano):\n",
    "    # Convertimos la baraja a una lista para usar random.sample\n",
    "    return set(random.sample(list(baraja), tamano))\n",
    "\n",
    "def calcular_probabilidades(mano1, mano2, total_cartas):\n",
    "    interseccion = mano1 & mano2\n",
    "    union = mano1 | mano2\n",
    "    \n",
    "    # Probabilidad de la intersección\n",
    "    prob_interseccion = len(interseccion) / total_cartas\n",
    "    \n",
    "    # Probabilidad de cada mano individual\n",
    "    prob_mano1 = len(mano1) / total_cartas\n",
    "    prob_mano2 = len(mano2) / total_cartas\n",
    "    \n",
    "    # Verificación de independencia\n",
    "    son_independientes = abs(prob_interseccion - (prob_mano1 * prob_mano2)) < 1e-5\n",
    "    \n",
    "    # Probabilidad de la unión\n",
    "    prob_union = len(union) / total_cartas\n",
    "    suma_prob_individuales = prob_mano1 + prob_mano2 - prob_interseccion\n",
    "    cumple_adicion = abs(prob_union - suma_prob_individuales) < 1e-5\n",
    "    \n",
    "    return prob_interseccion, prob_union, son_independientes, cumple_adicion\n",
    "\n",
    "# Crear la baraja de póker\n",
    "baraja = crear_baraja()\n",
    "total_cartas = len(baraja)\n",
    "\n",
    "# Crear dos manos con una cantidad variable de cartas\n",
    "tamano_mano1 = random.randint(1, total_cartas)\n",
    "tamano_mano2 = random.randint(1, total_cartas)\n",
    "mano1 = crear_mano(baraja, tamano_mano1)\n",
    "mano2 = crear_mano(baraja, tamano_mano2)\n",
    "\n",
    "# Calcular y mostrar las probabilidades\n",
    "prob_interseccion, prob_union, son_independientes, cumple_adicion = calcular_probabilidades(mano1, mano2, total_cartas)\n",
    "\n",
    "print(f\"Mano 1: {mano1}\")\n",
    "print(f\"Mano 2: {mano2}\")\n",
    "print(f\"Probabilidad de la intersección: {prob_interseccion}\")\n",
    "print(f\"Probabilidad de la unión: {prob_union}\")\n",
    "print(f\"¿Son independientes? {'Sí' if son_independientes else 'No'}\")\n",
    "print(f\"¿Cumple la regla de la adición? {'Sí' if cumple_adicion else 'No'}\")\n"
   ]
  },
  {
   "cell_type": "markdown",
   "id": "9f7cc156-5eb4-488b-b6dc-3e2a9b0de586",
   "metadata": {},
   "source": [
    "---\n",
    "\n",
    "## Conclusión\n",
    "\n",
    "En este laboratorio, hemos explorado varios problemas de programación en Python que fortalecen nuestras habilidades en el manejo de estructuras de datos y en la lógica de programación aplicada. Los ejercicios abarcados incluyen la manipulación de listas, tuplas, diccionarios, y sets, así como la comprensión de conceptos como el cálculo de probabilidades y la verificación de reglas de adición e independencia en eventos. \n",
    "\n",
    "Estos ejercicios no solo nos ayudan a mejorar nuestra destreza en Python, sino que también nos brindan una base sólida para el análisis de datos y la implementación de modelos econométricos, temas fundamentales para avanzar en el estudio de la econometría.\n",
    "\n",
    "**Fin del Laboratorio 1**\n"
   ]
  },
  {
   "cell_type": "code",
   "execution_count": null,
   "id": "75b5b0d5-97c5-4085-8b70-26f5dc32562e",
   "metadata": {},
   "outputs": [],
   "source": []
  }
 ],
 "metadata": {
  "kernelspec": {
   "display_name": "Python 3 (ipykernel)",
   "language": "python",
   "name": "python3"
  },
  "language_info": {
   "codemirror_mode": {
    "name": "ipython",
    "version": 3
   },
   "file_extension": ".py",
   "mimetype": "text/x-python",
   "name": "python",
   "nbconvert_exporter": "python",
   "pygments_lexer": "ipython3",
   "version": "3.12.7"
  }
 },
 "nbformat": 4,
 "nbformat_minor": 5
}
